{
 "cells": [
  {
   "cell_type": "markdown",
   "metadata": {},
   "source": [
    "# Non Graded Challenge 2\n"
   ]
  },
  {
   "cell_type": "code",
   "execution_count": 45,
   "metadata": {},
   "outputs": [],
   "source": [
    "#Konversi Suhu Kelvin ke Celcius\n",
    "def konversiCelciusKelvin(suhu, satuan):\n",
    "    if satuan == 'C':\n",
    "        print(\"Suhu dari\", suhu, \"C menjadi\", round((suhu + 273.15), 2),'K')\n",
    "    elif satuan == 'K':\n",
    "        print(\"Suhu dari\", suhu, \"K menjadi\", round((suhu - 273.15), 2), 'C')\n",
    "\n",
    "#Konversi Suhu Ke Fahrenheit\n",
    "def konversiSuhuKeFahrenheit(suhu, satuan):\n",
    "    if satuan == 'C':\n",
    "        print(\"Suhu dari\", suhu, \"C menjadi\", round((suhu * 9 / 5 + 32), 2), 'F')\n",
    "    elif satuan == 'K':\n",
    "        print(\"Suhu dari\", suhu, \"K menjadi\", round(((suhu - 273.15) * 9 / 5 + 32 ), 2), 'F')\n",
    "\n",
    "#Konversi Suhu dari Fahrenheit\n",
    "def konversiSuhuDariFahrenheit(suhu, satuan):\n",
    "    if satuan == 'C':\n",
    "        print(\"Suhu dari\", suhu, \"F menjadi\", round(((suhu - 32) * 5 / 9), 2), 'C')\n",
    "    elif satuan == 'K':\n",
    "        print(\"Suhu dari\", suhu, \"F menjadi\", round(((suhu - 32) * 5 / 9 + 273.15), 2), 'F')"
   ]
  },
  {
   "cell_type": "code",
   "execution_count": 46,
   "metadata": {},
   "outputs": [
    {
     "name": "stdout",
     "output_type": "stream",
     "text": [
      "Suhu dari 13 C menjadi 286.15 K\n",
      "Suhu dari 300 K menjadi 26.85 C\n"
     ]
    }
   ],
   "source": [
    "#Konversi Celcius dan Kelvin\n",
    "\n",
    "konversiCelciusKelvin(13, 'C')\n",
    "konversiCelciusKelvin(300, 'K')"
   ]
  },
  {
   "cell_type": "code",
   "execution_count": 47,
   "metadata": {},
   "outputs": [
    {
     "name": "stdout",
     "output_type": "stream",
     "text": [
      "Suhu dari 13 C menjadi 55.4 F\n",
      "Suhu dari 300 K menjadi 80.33 F\n"
     ]
    }
   ],
   "source": [
    "#Konversi Suhu dari Celcius dan Kelvin ke Fahrenheit\n",
    "\n",
    "konversiSuhuKeFahrenheit(13, 'C')\n",
    "konversiSuhuKeFahrenheit(300, 'K')"
   ]
  },
  {
   "cell_type": "code",
   "execution_count": 48,
   "metadata": {},
   "outputs": [
    {
     "name": "stdout",
     "output_type": "stream",
     "text": [
      "Suhu dari 50 F menjadi 283.15 F\n",
      "Suhu dari 50 F menjadi 10.0 C\n"
     ]
    }
   ],
   "source": [
    "#Konversi Suhu dari Fahrenheit ke Celcius dan Kelvin\n",
    "\n",
    "konversiSuhuDariFahrenheit(50, 'K')\n",
    "konversiSuhuDariFahrenheit(50, 'C')"
   ]
  },
  {
   "cell_type": "code",
   "execution_count": null,
   "metadata": {},
   "outputs": [],
   "source": []
  }
 ],
 "metadata": {
  "kernelspec": {
   "display_name": "Python 3",
   "language": "python",
   "name": "python3"
  },
  "language_info": {
   "codemirror_mode": {
    "name": "ipython",
    "version": 3
   },
   "file_extension": ".py",
   "mimetype": "text/x-python",
   "name": "python",
   "nbconvert_exporter": "python",
   "pygments_lexer": "ipython3",
   "version": "3.8.2"
  }
 },
 "nbformat": 4,
 "nbformat_minor": 4
}
